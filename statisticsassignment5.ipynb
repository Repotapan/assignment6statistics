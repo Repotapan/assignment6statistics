{
 "cells": [
  {
   "cell_type": "markdown",
   "id": "9d389f61-3146-4ea8-be43-94d10be6e269",
   "metadata": {},
   "source": [
    "Q1: What is the difference between a t-test and a z-test? Provide an example scenario where you would\n",
    "use each type of test?"
   ]
  },
  {
   "cell_type": "markdown",
   "id": "d5020753-d120-4f4b-96e1-365d5cff29e7",
   "metadata": {},
   "source": [
    "A t-test and a z-test are both statistical tests used to determine the significance of a sample mean in comparison to a population mean. However, they differ in their assumptions about the population and the sample size.\n",
    "\n",
    "A z-test assumes that the population variance is known, while a t-test assumes that it is unknown and estimated from the sample data. Additionally, a z-test requires a large sample size (usually n > 30) and assumes that the sampling distribution of the mean is normally distributed. In contrast, a t-test can be used for smaller sample sizes and does not require the normality assumption, but it assumes that the sample is a random sample from a normally distributed population.\n",
    "\n",
    "An example scenario where you might use a z-test is when you have a large sample size and a known population variance, such as when testing whether the mean height of students at a university is different from the mean height of the general population. In contrast, you might use a t-test when you have a small sample size and an unknown population variance, such as when testing whether the mean test scores of a group of students is different from a population mean."
   ]
  },
  {
   "cell_type": "markdown",
   "id": "c9c12f20-c840-496c-acec-5b3e384cc196",
   "metadata": {},
   "source": [
    "Q2: Differentiate between one-tailed and two-tailed tests?"
   ]
  },
  {
   "cell_type": "markdown",
   "id": "3ffa4865-74b8-44bd-9085-8c04623bd3ca",
   "metadata": {},
   "source": [
    "A one-tailed test is a statistical test where the null hypothesis is tested against a single alternative hypothesis, either in the positive or negative direction. In contrast, a two-tailed test is a statistical test where the null hypothesis is tested against a two-sided alternative hypothesis, where the difference between the sample mean and population mean can be in either direction."
   ]
  },
  {
   "cell_type": "markdown",
   "id": "c7c8b3ee-f8e5-42f7-ab75-abdf4bd3f621",
   "metadata": {},
   "source": [
    "Q3: Explain the concept of Type 1 and Type 2 errors in hypothesis testing. Provide an example scenario for\n",
    "each type of error?"
   ]
  },
  {
   "cell_type": "markdown",
   "id": "7566e311-7ed0-43df-b875-d7979eb6612b",
   "metadata": {},
   "source": [
    "In hypothesis testing, a Type 1 error occurs when the null hypothesis is rejected when it is actually true. This is also known as a false positive error, and it means that the researcher concludes that there is a significant effect or difference when there really isn't. The probability of making a Type 1 error is denoted by the symbol alpha (α), and it is typically set at a pre-determined level (e.g., 0.05).\n",
    "\n",
    "On the other hand, a Type 2 error occurs when the null hypothesis is not rejected when it is actually false. This is also known as a false negative error, and it means that the researcher fails to detect a significant effect or difference when one really exists. The probability of making a Type 2 error is denoted by the symbol beta (β), and it depends on several factors, including the sample size, the effect size, and the level of significance.\n",
    "\n",
    "An example scenario for a Type 1 error is when a pharmaceutical company approves a new drug based on clinical trials that show a statistically significant improvement in patient outcomes, but the drug actually has no real effect or even harmful effects. This could happen if the clinical trials had a high probability of making a Type 1 error (i.e., a high alpha level).\n",
    "\n",
    "An example scenario for a Type 2 error is when a clinical trial fails to detect a significant improvement in patient outcomes for a drug that actually has a beneficial effect. This could happen if the sample size was too small or the effect size was too small to be detected, resulting in a high probability of making a Type 2 error (i.e., a high beta level).\n",
    "\n",
    "In summary, a Type 1 error occurs when the null hypothesis is rejected when it is actually true, while a Type 2 error occurs when the null hypothesis is not rejected when it is actually false. It is important to balance the risks of Type 1 and Type 2 errors when conducting hypothesis tests and to consider the practical significance of the results, in addition to the statistical significance."
   ]
  },
  {
   "cell_type": "markdown",
   "id": "7bc23f4d-f7f7-417a-8071-19fd2ca50534",
   "metadata": {},
   "source": [
    "Q4: Explain Bayes's theorem with an example?"
   ]
  },
  {
   "cell_type": "markdown",
   "id": "2e83d510-8e2e-40b0-b5c7-ca831aab3c19",
   "metadata": {},
   "source": [
    "Bayes's theorem is a mathematical formula used to calculate the probability of an event occurring based on prior knowledge of conditions that might be related to the event. The formula states that the probability of A given B is equal to the probability of B given A multiplied by the probability of A, divided by the probability of B.\n",
    "\n",
    "Bayes's theorem can be explained using a simple example. Suppose you are a doctor and you want to know the probability of a patient having a certain disease based on their symptoms. Let's say that the disease affects 1% of the population and that the test for the disease is 90% accurate."
   ]
  },
  {
   "cell_type": "markdown",
   "id": "c3905f2a-32e7-445c-89d9-9dde8d914ce4",
   "metadata": {},
   "source": [
    "Q5: What is a confidence interval? How to calculate the confidence interval, explain with an example?"
   ]
  },
  {
   "cell_type": "markdown",
   "id": "20f18456-7a16-40f1-ba18-ffb245f59c61",
   "metadata": {},
   "source": [
    "A confidence interval is a range of values that is likely to contain the true value of a population parameter with a certain degree of confidence. It is calculated from a sample statistic and is used to estimate the population parameter. The confidence level represents the percentage of times that the true population parameter will be contained within the calculated interval if the same study was repeated many times.\n",
    "\n",
    "To calculate a confidence interval, you need to know the sample size, the sample mean, and the standard deviation. You also need to choose a level of confidence, which is usually expressed as a percentage (e.g., 95%, 99%).\n",
    "\n",
    "The formula for calculating a confidence interval for a population mean is:\n",
    "\n",
    "CI = X̄ ± z* (σ/√n)\n",
    "\n",
    "where:\n",
    "\n",
    "X̄ is the sample mean\n",
    "z* is the z-score associated with the desired level of confidence (e.g., 1.96 for 95% confidence)\n",
    "σ is the population standard deviation (or the estimated standard deviation based on the sample)\n",
    "n is the sample size\n",
    "For example, let's say a random sample of 50 students was selected from a population of 1000 students, and the average height of the sample was found to be 170 cm with a standard deviation of 10 cm. We want to calculate a 95% confidence interval for the population mean height.\n",
    "\n",
    "First, we need to calculate the z-score associated with 95% confidence. This can be found using a standard normal distribution table or a statistical software program and is approximately 1.96.\n",
    "\n",
    "Next, we can plug in the values into the formula:\n",
    "\n",
    "CI = 170 ± 1.96 * (10/√50)\n",
    "= 170 ± 2.77\n",
    "= (167.23, 172.77)\n",
    "\n",
    "This means that we can be 95% confident that the true population mean height is between 167.23 and 172.77 cm based on the sample data."
   ]
  },
  {
   "cell_type": "markdown",
   "id": "ccfc77a9-6730-4f8c-8cb8-8bd6600148b4",
   "metadata": {},
   "source": [
    "Q6. Use Bayes' Theorem to calculate the probability of an event occurring given prior knowledge of the\n",
    "event's probability and new evidence. Provide a sample problem and solution?"
   ]
  },
  {
   "cell_type": "markdown",
   "id": "12a8f076-7e2d-4447-a939-814d2d14c888",
   "metadata": {},
   "source": [
    "Sure, here is an example problem that demonstrates how to use Bayes' theorem to calculate the probability of an event occurring given prior knowledge and new evidence:\n",
    "\n",
    "Suppose a company manufactures two types of light bulbs: Type A and Type B. Type A bulbs have a failure rate of 5%, while Type B bulbs have a failure rate of 10%. A worker selects a bulb at random from a box and tests it. The worker observes that the bulb has failed. What is the probability that the failed bulb is a Type B bulb?\n",
    "\n",
    "We can use Bayes' theorem to calculate the probability of the failed bulb being a Type B bulb given the evidence of failure. Let B represent the event that the failed bulb is a Type B bulb, and F represent the event that the bulb has failed. Then, we have:\n",
    "\n",
    "P(B|F) = P(F|B) * P(B) / P(F)\n",
    "where:\n",
    "\n",
    "P(B|F) is the probability that the failed bulb is a Type B bulb given the evidence of failure (what we want to find)\n",
    "P(F|B) is the probability of the bulb failing given that it is a Type B bulb (i.e., the failure rate of Type B bulbs), which is 10%\n",
    "P(B) is the prior probability of selecting a Type B bulb, which is 50% since there are two types of bulbs and they are equally likely to be selected\n",
    "P(F) is the probability of the bulb failing, which can be calculated using the law of total probability as:\n",
    "P(F) = P(F|A) * P(A) + P(F|B) * P(B)\n",
    "= 0.05 * 0.5 + 0.1 * 0.5\n",
    "= 0.075\n",
    "\n",
    "Substituting in the values, we get:\n",
    "\n",
    "P(B|F) = 0.1 * 0.5 / 0.075\n",
    "= 2/3\n",
    "= 0.67\n",
    "\n",
    "Therefore, the probability that the failed bulb is a Type B bulb given the evidence of failure is 0.67 or 67%."
   ]
  },
  {
   "cell_type": "markdown",
   "id": "764ebf21-a1b3-420e-b47e-66953d51a61f",
   "metadata": {},
   "source": [
    "Q7. Calculate the 95% confidence interval for a sample of data with a mean of 50 and a standard deviation\n",
    "of 5. Interpret the results?"
   ]
  },
  {
   "cell_type": "markdown",
   "id": "2936eb81-0656-41bb-912e-ce0f4f2a6c32",
   "metadata": {},
   "source": [
    "To calculate the 95% confidence interval for a sample of data with a mean of 50 and a standard deviation of 5, we can use the formula:\n",
    "\n",
    "CI = X̄ ± z*(σ/√n)\n",
    "\n",
    "where X̄ is the sample mean, σ is the population standard deviation (or the estimated standard deviation based on the sample), n is the sample size, and z* is the z-score associated with the desired level of confidence (in this case, 95%). The z-score associated with a 95% confidence level is approximately 1.96.\n",
    "\n",
    "Plugging in the values, we get:\n",
    "\n",
    "CI = 50 ± 1.96*(5/√n)\n",
    "\n",
    "To determine the sample size n required to calculate the confidence interval, we need to know the desired margin of error. Let's assume that we want the margin of error to be no larger than 2.5. Then, we have:\n",
    "\n",
    "2.5 = 1.96*(5/√n)\n",
    "\n",
    "Solving for n, we get:\n",
    "\n",
    "n = (1.96*5/2.5)^2\n",
    "= 38.4\n",
    "\n",
    "Rounding up to the nearest whole number, we need a sample size of at least 39.\n",
    "\n",
    "Therefore, the 95% confidence interval for a sample of data with a mean of 50 and a standard deviation of 5, based on a sample size of 39, is:\n",
    "\n",
    "CI = 50 ± 1.96*(5/√39)\n",
    "= (47.36, 52.64)\n",
    "\n",
    "Interpreting the results, we can say that we are 95% confident that the true population mean falls within the range of 47.36 to 52.64 based on the sample data. This means that if we were to take many samples and calculate their confidence intervals, approximately 95% of the intervals would contain the true population mean."
   ]
  },
  {
   "cell_type": "markdown",
   "id": "0bae0107-4492-4dee-a02c-14a16786f87c",
   "metadata": {},
   "source": [
    "Q8. What is the margin of error in a confidence interval? How does sample size affect the margin of error?\n",
    "Provide an example of a scenario where a larger sample size would result in a smaller margin of error?"
   ]
  },
  {
   "cell_type": "markdown",
   "id": "db0ab06b-f065-44ef-a2c0-99937f003fa9",
   "metadata": {},
   "source": [
    "The margin of error is a measure of the uncertainty or variability of an estimate in a statistical analysis. It is usually expressed as a percentage and reflects the range of values that the true population parameter could take given a certain level of confidence.\n",
    "\n",
    "A confidence interval is a range of values around an estimate that is likely to contain the true population parameter. The margin of error indicates the maximum distance between the estimate and the upper or lower limit of the interval.\n",
    "\n",
    "The margin of error is affected by several factors, including the level of confidence desired, the standard deviation of the sample, and the sample size. As the sample size increases, the margin of error decreases because the larger sample provides more information about the population, resulting in a more accurate estimate.\n",
    "\n",
    "For example, suppose a pollster wants to estimate the proportion of voters who support a particular candidate in a state. A random sample of 500 voters is selected, and the estimate is 50% with a margin of error of ±4%. If the sample size is increased to 1000, the margin of error would decrease to ±3%, assuming all other factors remain constant. This means that the estimate of the proportion of voters who support the candidate is more precise and closer to the true value of the population."
   ]
  },
  {
   "cell_type": "markdown",
   "id": "8250ece2-f63e-4b41-945b-456215c94b44",
   "metadata": {},
   "source": [
    "Q9. Calculate the z-score for a data point with a value of 75, a population mean of 70, and a population\n",
    "standard deviation of 5. Interpret the results."
   ]
  },
  {
   "cell_type": "markdown",
   "id": "111c9552-2632-41cd-bce6-6fd1f8e2ff7f",
   "metadata": {},
   "source": [
    "To calculate the z-score, we use the formula:\n",
    "\n",
    "z = (x - μ) / σ\n",
    "\n",
    "Where:\n",
    "\n",
    "x = the data point value\n",
    "μ = the population mean\n",
    "σ = the population standard deviation\n",
    "Substituting the values given in the problem, we get:\n",
    "\n",
    "z = (75 - 70) / 5\n",
    "z = 1\n",
    "\n",
    "The z-score of 1 indicates that the data point of 75 is one standard deviation above the population mean of 70. In other words, the value of 75 is higher than the average value by one unit of the standard deviation."
   ]
  },
  {
   "cell_type": "markdown",
   "id": "dd20833f-1c41-4f4e-b19c-f6d4355934fa",
   "metadata": {},
   "source": [
    "Q10. In a study of the effectiveness of a new weight loss drug, a sample of 50 participants lost an average\n",
    "of 6 pounds with a standard deviation of 2.5 pounds. Conduct a hypothesis test to determine if the drug is\n",
    "significantly effective at a 95% confidence level using a t-test."
   ]
  },
  {
   "cell_type": "markdown",
   "id": "fa3cef3a-c445-4378-8c9f-53ba1ab54461",
   "metadata": {},
   "source": [
    "  To conduct a hypothesis test using a t-test, we need to first define the null and alternative hypotheses:\n",
    "\n",
    "Null hypothesis (H0): The weight loss drug is not significantly effective (i.e., the true population mean weight loss is equal to or less than zero).\n",
    "Alternative hypothesis (Ha): The weight loss drug is significantly effective (i.e., the true population mean weight loss is greater than zero).\n",
    "Next, we need to choose a significance level (α) for the test. The problem specifies a 95% confidence level, which corresponds to a significance level of α = 0.05.\n",
    "\n",
    "Since the sample size is small (n = 50) and the population standard deviation is unknown, we will use a t-test to test the hypothesis. The test statistic is given by:\n",
    "\n",
    "t = (x̄ - μ) / (s / sqrt(n))\n",
    "\n",
    "Where:\n",
    "\n",
    "x̄ = sample mean (6 pounds)\n",
    "μ = hypothesized population mean (0 pounds)\n",
    "s = sample standard deviation (2.5 pounds)\n",
    "n = sample size (50)\n",
    "Substituting the values, we get:\n",
    "\n",
    "t = (6 - 0) / (2.5 / sqrt(50))\n",
    "t = 18.973\n",
    "\n",
    "The degrees of freedom for the t-test are (n - 1) = 49.\n",
    "\n",
    "Using a t-table or a t-distribution calculator with 49 degrees of freedom and a significance level of α = 0.05, we find the critical t-value to be 1.677.\n",
    "\n",
    "Since our calculated t-value (18.973) is greater than the critical t-value (1.677), we reject the null hypothesis and conclude that the weight loss drug is significantly effective at a 95% confidence level. In other words, we have strong evidence to suggest that the true population mean weight loss is greater than zero."
   ]
  },
  {
   "cell_type": "markdown",
   "id": "693a41df-efc6-49be-b4d4-e66aebe2d276",
   "metadata": {},
   "source": [
    "Q11. In a survey of 500 people, 65% reported being satisfied with their current job. Calculate the 95%\n",
    "confidence interval for the true proportion of people who are satisfied with their job."
   ]
  },
  {
   "cell_type": "markdown",
   "id": "50c04bfe-57a0-461b-b584-34978b3b1cc6",
   "metadata": {},
   "source": [
    "To calculate the 95% confidence interval for the true proportion of people who are satisfied with their job, we use the following formula:\n",
    "\n",
    "CI = p ± z*(sqrt((p*(1-p))/n))\n",
    "\n",
    "Where:\n",
    "\n",
    "CI = confidence interval\n",
    "p = sample proportion (0.65)\n",
    "z = z-score for the desired confidence level (1.96 for 95% confidence level)\n",
    "n = sample size (500)\n",
    "Substituting the values, we get:\n",
    "\n",
    "CI = 0.65 ± 1.96*(sqrt((0.65*(1-0.65))/500))\n",
    "CI = 0.65 ± 0.042\n",
    "\n",
    "The confidence interval is [0.608, 0.692].\n",
    "\n",
    "Interpretation: We can be 95% confident that the true proportion of people who are satisfied with their job is between 60.8% and 69.2%. This means that if we were to repeat the survey many times and calculate the confidence interval each time, we would expect the true population proportion to fall within this range 95% of the time."
   ]
  },
  {
   "cell_type": "markdown",
   "id": "2048f94f-ea4e-4bdd-826b-ee4bfa970b12",
   "metadata": {},
   "source": [
    "Q12. A researcher is testing the effectiveness of two different teaching methods on student performance.\n",
    "Sample A has a mean score of 85 with a standard deviation of 6, while sample B has a mean score of 82\n",
    "with a standard deviation of 5. Conduct a hypothesis test to determine if the two teaching methods have a\n",
    "significant difference in student performance using a t-test with a significance level of 0.01."
   ]
  },
  {
   "cell_type": "markdown",
   "id": "f61a02d7-68c6-484e-993a-1d9ff1065167",
   "metadata": {},
   "source": [
    "To conduct a hypothesis test to determine if there is a significant difference in student performance between the two teaching methods, we can use a two-sample t-test.\n",
    "\n",
    "Null hypothesis: There is no significant difference in the mean student performance between the two teaching methods.\n",
    "Alternative hypothesis: There is a significant difference in the mean student performance between the two teaching methods.\n",
    "\n",
    "Let us assume a significance level of 0.01.\n",
    "\n",
    "To conduct the t-test, we first need to calculate the t-statistic:\n",
    "\n",
    "t = (mean(A) - mean(B)) / (sqrt((s(A)^2/n(A)) + (s(B)^2/n(B))))\n",
    "\n",
    "where mean(A) and mean(B) are the means of the two samples, s(A) and s(B) are the standard deviations of the two samples, and n(A) and n(B) are the sample sizes.\n",
    "\n",
    "Plugging in the values from the problem, we get:\n",
    "\n",
    "t = (85 - 82) / (sqrt((6^2/100) + (5^2/100)))\n",
    "t = 3 / 0.781\n",
    "t = 3.842\n",
    "\n",
    "Next, we need to find the degrees of freedom (df) using the following formula:\n",
    "\n",
    "df = (s(A)^2/n(A) + s(B)^2/n(B))^2 / [(s(A)^2/n(A))^2/(n(A)-1) + (s(B)^2/n(B))^2/(n(B)-1)]\n",
    "\n",
    "Plugging in the values from the problem, we get:\n",
    "\n",
    "df = (6^2/100 + 5^2/100)^2 / [(6^2/100)^2/99 + (5^2/100)^2/99]\n",
    "df = 197.34\n",
    "\n",
    "Using a t-distribution table with 197 degrees of freedom and a significance level of 0.01, we find the critical t-value to be approximately 2.602.\n",
    "\n",
    "Since our calculated t-value (3.842) is greater than the critical t-value (2.602), we can reject the null hypothesis and conclude that there is a significant difference in student performance between the two teaching methods."
   ]
  },
  {
   "cell_type": "markdown",
   "id": "daacbc87-d7d5-4a03-9176-a26bcb3cc0fd",
   "metadata": {},
   "source": [
    "Q13. A population has a mean of 60 and a standard deviation of 8. A sample of 50 observations has a mean\n",
    "of 65. Calculate the 90% confidence interval for the true population mean."
   ]
  },
  {
   "cell_type": "markdown",
   "id": "bb672924-08df-482c-a780-8587d446b64b",
   "metadata": {},
   "source": [
    "To calculate the 90% confidence interval for the true population mean, we can use the following formula:\n",
    "\n",
    "CI = x̄ ± zα/2 * (σ/√n)\n",
    "\n",
    "where CI is the confidence interval, x̄ is the sample mean, zα/2 is the z-score corresponding to the desired confidence level (in this case, 90% corresponds to a z-score of 1.645), σ is the population standard deviation, and n is the sample size.\n",
    "\n",
    "Plugging in the values from the problem, we get:\n",
    "\n",
    "CI = 65 ± 1.645 * (8/√50)\n",
    "\n",
    "Simplifying the expression inside the parentheses, we get:\n",
    "\n",
    "CI = 65 ± 1.645 * 1.131\n",
    "\n",
    "CI = 65 ± 1.859\n",
    "\n",
    "Therefore, the 90% confidence interval for the true population mean is (63.141, 66.859).\n",
    "\n",
    "We can be 90% confident that the true population mean falls within this interval."
   ]
  },
  {
   "cell_type": "markdown",
   "id": "93b6e83e-a3ab-433e-bed9-5eed52008557",
   "metadata": {},
   "source": [
    "Q14. In a study of the effects of caffeine on reaction time, a sample of 30 participants had an average\n",
    "reaction time of 0.25 seconds with a standard deviation of 0.05 seconds. Conduct a hypothesis test to\n",
    "determine if the caffeine has a significant effect on reaction time at a 90% confidence level using a t-test."
   ]
  },
  {
   "cell_type": "markdown",
   "id": "e0100a1d-7c54-48f8-b1d0-83fc3007561f",
   "metadata": {},
   "source": [
    "To conduct a hypothesis test to determine if caffeine has a significant effect on reaction time, we can use a one-sample t-test.\n",
    "\n",
    "Null hypothesis: Caffeine has no significant effect on reaction time.\n",
    "Alternative hypothesis: Caffeine has a significant effect on reaction time.\n",
    "\n",
    "Let us assume a significance level of 0.10 or a 90% confidence level.\n",
    "\n",
    "To conduct the t-test, we first need to calculate the t-statistic:\n",
    "\n",
    "t = (x̄ - μ) / (s/√n)\n",
    "\n",
    "where x̄ is the sample mean, μ is the hypothesized population mean (in this case, the mean reaction time without caffeine, which we assume to be 0.30 seconds), s is the sample standard deviation, and n is the sample size.\n",
    "\n",
    "Plugging in the values from the problem, we get:\n",
    "\n",
    "t = (0.25 - 0.30) / (0.05/√30)\n",
    "t = -3 / 0.00914\n",
    "t = -328.1\n",
    "\n",
    "Next, we need to find the degrees of freedom (df) using the formula:\n",
    "\n",
    "df = n - 1\n",
    "\n",
    "Plugging in the sample size, we get:\n",
    "\n",
    "df = 30 - 1\n",
    "df = 29\n",
    "\n",
    "Using a t-distribution table with 29 degrees of freedom and a significance level of 0.10, we find the critical t-value to be approximately -1.311.\n",
    "\n",
    "Since our calculated t-value (-328.1) is much smaller (in absolute value) than the critical t-value (-1.311), we can reject the null hypothesis and conclude that caffeine has a significant effect on reaction time at a 90% confidence level.\n",
    "\n",
    "In other words, we can say that there is a significant difference between the mean reaction time with caffeine (0.25 seconds) and the hypothesized mean reaction time without caffeine (0.30 seconds). The negative sign of the t-value indicates that the reaction time with caffeine is significantly lower than the hypothesized mean reaction time without caffeine."
   ]
  },
  {
   "cell_type": "code",
   "execution_count": null,
   "id": "b04b479a-3c73-4f70-a198-25474da6d7d4",
   "metadata": {},
   "outputs": [],
   "source": []
  }
 ],
 "metadata": {
  "kernelspec": {
   "display_name": "Python 3 (ipykernel)",
   "language": "python",
   "name": "python3"
  },
  "language_info": {
   "codemirror_mode": {
    "name": "ipython",
    "version": 3
   },
   "file_extension": ".py",
   "mimetype": "text/x-python",
   "name": "python",
   "nbconvert_exporter": "python",
   "pygments_lexer": "ipython3",
   "version": "3.10.8"
  }
 },
 "nbformat": 4,
 "nbformat_minor": 5
}
